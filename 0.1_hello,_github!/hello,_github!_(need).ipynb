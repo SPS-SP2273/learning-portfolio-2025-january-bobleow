{
 "cells": [
  {
   "attachments": {},
   "cell_type": "markdown",
   "id": "123456",
   "metadata": {},
   "source": [
    "<div style=\"text-align:left;font-size:2em\"><span style=\"font-weight:bolder;font-size:1.25em\">SP2273 | Learning Portfolio</span><br><br><span style=\"font-weight:bold;color:darkred\">Hello, GitHub! (Need)</span></div>"
   ]
  },
  {
   "attachments": {},
   "cell_type": "markdown",
   "id": "67ed9af5",
   "metadata": {},
   "source": [
    "# Setting up GitHub Classroom"
   ]
  },
  {
   "attachments": {},
   "cell_type": "markdown",
   "id": "4c0cce31",
   "metadata": {},
   "source": [
    "### Create an account with GitHub"
   ]
  },
  {
   "cell_type": "code",
   "execution_count": null,
   "id": "d385379a",
   "metadata": {},
   "outputs": [],
   "source": [
    "\n",
    "# Your code here\n"
   ]
  },
  {
   "attachments": {},
   "cell_type": "markdown",
   "id": "5a0c260e",
   "metadata": {},
   "source": [
    "### Link to 73 GitHub Classroom"
   ]
  },
  {
   "cell_type": "code",
   "execution_count": null,
   "id": "4a9816a4",
   "metadata": {},
   "outputs": [],
   "source": [
    "\n",
    "# Your code here\n"
   ]
  },
  {
   "attachments": {},
   "cell_type": "markdown",
   "id": "03e1725b",
   "metadata": {},
   "source": [
    "### Enabling ReviewNB"
   ]
  },
  {
   "cell_type": "code",
   "execution_count": null,
   "id": "da269707",
   "metadata": {},
   "outputs": [],
   "source": [
    "\n",
    "# Your code here\n"
   ]
  },
  {
   "attachments": {},
   "cell_type": "markdown",
   "id": "ac84cec4",
   "metadata": {},
   "source": [
    "### Setting up your local environment with GitHub Desktop"
   ]
  },
  {
   "cell_type": "code",
   "execution_count": null,
   "id": "0b721f73",
   "metadata": {},
   "outputs": [],
   "source": [
    "\n",
    "# Your code here\n"
   ]
  },
  {
   "attachments": {},
   "cell_type": "markdown",
   "id": "d590fe97",
   "metadata": {},
   "source": [
    "# Using Git & GitHub"
   ]
  },
  {
   "attachments": {},
   "cell_type": "markdown",
   "id": "d68230e0",
   "metadata": {},
   "source": [
    "### Recording changes with GitHub"
   ]
  },
  {
   "cell_type": "code",
   "execution_count": null,
   "id": "b748fe5c",
   "metadata": {},
   "outputs": [],
   "source": [
    "\n",
    "# Your code here\n"
   ]
  },
  {
   "attachments": {},
   "cell_type": "markdown",
   "id": "f77cae5e",
   "metadata": {},
   "source": [
    "### Pushing Changes to GitHub"
   ]
  },
  {
   "cell_type": "code",
   "execution_count": null,
   "id": "aaa7b881",
   "metadata": {},
   "outputs": [],
   "source": [
    "\n",
    "# Your code here\n"
   ]
  },
  {
   "attachments": {},
   "cell_type": "markdown",
   "id": "0afba3b4",
   "metadata": {},
   "source": [
    "### Pulling Changes from GitHub"
   ]
  },
  {
   "cell_type": "code",
   "execution_count": null,
   "id": "419f0ea9",
   "metadata": {},
   "outputs": [],
   "source": [
    "\n",
    "# Your code here\n"
   ]
  },
  {
   "attachments": {},
   "cell_type": "markdown",
   "id": "51edd88e",
   "metadata": {},
   "source": [
    "## Footnotes"
   ]
  }
 ],
 "metadata": {
  "kernelspec": {
   "display_name": "Python [conda env:base] *",
   "language": "python",
   "name": "conda-base-py"
  },
  "language_info": {
   "codemirror_mode": {
    "name": "ipython",
    "version": 3
   },
   "file_extension": ".py",
   "mimetype": "text/x-python",
   "name": "python",
   "nbconvert_exporter": "python",
   "pygments_lexer": "ipython3",
   "version": "3.12.2"
  },
  "toc": {
   "base_numbering": 1,
   "nav_menu": {},
   "number_sections": true,
   "sideBar": true,
   "skip_h1_title": false,
   "title_cell": "Table of Contents",
   "title_sidebar": "Contents",
   "toc_cell": false,
   "toc_position": {},
   "toc_section_display": true,
   "toc_window_display": false
  },
  "vscode": {
   "interpreter": {
    "hash": "31f2aee4e71d21fbe5cf8b01ff0e069b9275f58929596ceb00d14d90e3e16cd6"
   }
  }
 },
 "nbformat": 4,
 "nbformat_minor": 5
}
