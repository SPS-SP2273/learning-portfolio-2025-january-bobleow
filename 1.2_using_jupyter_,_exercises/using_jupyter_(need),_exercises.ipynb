{
 "cells": [
  {
   "attachments": {},
   "cell_type": "markdown",
   "id": "123456",
   "metadata": {},
   "source": [
    "<div style=\"text-align:left;font-size:2em\"><span style=\"font-weight:bolder;font-size:1.25em\">SP2273 | Learning Portfolio</span><br><br><span style=\"font-weight:bold;color:darkred\">Using Jupyter (Need), Exercises</span></div>"
   ]
  },
  {
   "attachments": {},
   "cell_type": "markdown",
   "id": "5fa1bb4c",
   "metadata": {},
   "source": [
    "## 1 Quadratic Equations"
   ]
  },
  {
   "attachments": {},
   "cell_type": "markdown",
   "id": "38168cc7",
   "metadata": {},
   "source": [
    "### Introduction"
   ]
  },
  {
   "cell_type": "markdown",
   "id": "bbad5924-74eb-4a62-b2ed-d74b7ddd16c8",
   "metadata": {},
   "source": [
    "![](https://upload.wikimedia.org/wikipedia/commons/thumb/f/f8/Polynomialdeg2.svg/1920px-Polynomialdeg2.svg.png)"
   ]
  },
  {
   "cell_type": "markdown",
   "id": "e8c6aa80-c56a-4c86-a678-1a58fb4abdb8",
   "metadata": {},
   "source": [
    "*(Images from the [Wikipedia page on Quadratic Equation](https://en.wikipedia.org/wiki/Quadratic_equation))*"
   ]
  },
  {
   "cell_type": "markdown",
   "id": "bca1d0ff-d474-462b-ba68-eec721f0a21d",
   "metadata": {},
   "source": [
    "The general form of a quadratic equation is:"
   ]
  },
  {
   "cell_type": "markdown",
   "id": "5b954591-07a7-4abe-9736-156b21af1614",
   "metadata": {},
   "source": [
    "$$\n",
    "ax^{2} + bx + c = 0\n",
    "$$"
   ]
  },
  {
   "attachments": {},
   "cell_type": "markdown",
   "id": "79df44a7",
   "metadata": {},
   "source": [
    "### Solutions"
   ]
  },
  {
   "cell_type": "markdown",
   "id": "fcfcee2d-473b-4a1c-b846-66d99720d5b8",
   "metadata": {},
   "source": [
    "Provided $a \\ne 0$ we can use an elementary algebraic method called [completing the square](https://en.wikipedia.org/wiki/Completing_the_square) to show that a quadratic equation has the following solution:"
   ]
  },
  {
   "cell_type": "markdown",
   "id": "9bf0d0f0-37b7-40f7-be53-6cc72d149dea",
   "metadata": {},
   "source": [
    "$$\n",
    "x = \\dfrac{-b \\pm \\sqrt{b^2-4ac}}{2a}\n",
    "$$"
   ]
  },
  {
   "attachments": {},
   "cell_type": "markdown",
   "id": "9261ed03",
   "metadata": {},
   "source": [
    "### Discriminant"
   ]
  },
  {
   "cell_type": "markdown",
   "id": "fa7c7d4f-d312-4612-9787-69371bb6dc67",
   "metadata": {},
   "source": [
    "The quantity $\\Delta = b^{2} - 4ac$ is called the **discriminant** of the equation and decides the nature of its solutions. The table below shows the various possibilities."
   ]
  },
  {
   "cell_type": "markdown",
   "id": "78dab787-72a9-4825-b714-a59e6a6e3234",
   "metadata": {},
   "source": [
    "\n",
    "| Discriminant | Roots                                |\n",
    "|--------------|--------------------------------------|\n",
    "|     $\\Delta = b^{2} - 4ac = 0$         | A single solution of $-b/2a$         |\n",
    "|     $\\Delta = b^{2} - 4ac \\gt 0$           | Two distinct solutions               |\n",
    "|         $\\Delta = b^{2} - 4ac \\lt 0$       | No real solutions; both are complex. |"
   ]
  },
  {
   "cell_type": "markdown",
   "id": "c8303507-8054-42a8-9301-b67c9fd145ef",
   "metadata": {},
   "source": [
    "**Exercise 2 (In your own words)** In your own words, use a Markdown cell to answer the following question."
   ]
  },
  {
   "cell_type": "markdown",
   "id": "d4f92432-f101-40e1-9bca-ae6e414c5dd9",
   "metadata": {},
   "source": [
    "*If you are unsure of the answer, please first consult with an instructor or a friend. Only then should you use the internet for additional information*"
   ]
  },
  {
   "cell_type": "markdown",
   "id": "22eae53e-69aa-4ee5-9796-04645b861fa7",
   "metadata": {},
   "source": [
    "1. What is a Git **repository**?"
   ]
  },
  {
   "cell_type": "markdown",
   "id": "b1afc85c-03e3-424a-9a9d-0c6b95d4ff7e",
   "metadata": {},
   "source": [
    "A Git repository is the .git/ folder inside a project.\n",
    "\n"
   ]
  },
  {
   "cell_type": "markdown",
   "id": "aa859be8-3f28-4f92-8e63-eaa5ada74bb5",
   "metadata": {},
   "source": [
    "2. Git keeps track of ____BLANK____ in the files in our repository."
   ]
  },
  {
   "cell_type": "markdown",
   "id": "02eb2765-33e0-43fc-a76a-9ab2cc8b7a24",
   "metadata": {},
   "source": [
    "Progress/Changes"
   ]
  },
  {
   "cell_type": "markdown",
   "id": "1ff0d3a8-5e7d-4a53-80f7-685fcac25dae",
   "metadata": {},
   "source": [
    "3. What is a **commit**?"
   ]
  },
  {
   "cell_type": "markdown",
   "id": "858ae3d3-03c5-41a8-9272-6adcf8334738",
   "metadata": {},
   "source": [
    "Changes recorded on the device locally"
   ]
  },
  {
   "cell_type": "markdown",
   "id": "cf703d64-dda8-4ba4-aab9-1aa2814b4449",
   "metadata": {},
   "source": [
    "4. What is a **push**?"
   ]
  },
  {
   "cell_type": "markdown",
   "id": "f50e6cd7-e356-4fd7-84cf-d54f33c4ad3e",
   "metadata": {},
   "source": [
    "Changes recorded on the device locally, now being uploaded into the cloud server."
   ]
  },
  {
   "cell_type": "markdown",
   "id": "6d1bcbc7-f42a-4ef9-afbf-b72dc5e8ffe6",
   "metadata": {},
   "source": [
    "5. What is a **pull**?"
   ]
  },
  {
   "cell_type": "markdown",
   "id": "f9aabd6f-713a-42bd-a4e3-6a8829112871",
   "metadata": {},
   "source": [
    "Saving changes/new updates from the cloud server into the device locally."
   ]
  },
  {
   "cell_type": "markdown",
   "id": "e2faf485-4048-4e96-bf58-9c763f68cf16",
   "metadata": {},
   "source": [
    "6. What is the difference between **GitHub** and **GitHub Desktop**?"
   ]
  },
  {
   "cell_type": "markdown",
   "id": "2abede30-cbee-4e3e-9239-c20fe762c4a2",
   "metadata": {},
   "source": [
    "Github desktop is the local memory space while Github is the cloud memory space."
   ]
  },
  {
   "cell_type": "markdown",
   "id": "e3b3afa1-d313-4c0c-8b7e-63a232710aff",
   "metadata": {},
   "source": [
    "**Exercise 3 (A Matter of Statistics)** The mean ($\\mu$), standard deviation ($\\sigma$), and Pearson correlation coefficient $r$ are important statistical parameters. Given variables $x$<sub>i</sub> and $y$<sub>i</sub> representing the $i$-th values in a dataset with pairs, use Markdown notation to write the equations for these parameters.\n",
    "\n",
    "Your equations should ideally look like the following. You might find [this resource](https://www.cmor-faculty.rice.edu/~heinken/latex/symbols.pdf) from Rice University useful."
   ]
  },
  {
   "cell_type": "markdown",
   "id": "48be3b02-0a5a-421d-95f6-2dd364be0657",
   "metadata": {},
   "source": [
    "$$\n",
    "\\mu = \\dfrac{1}{n} \\sum_{t=1}^{n} x_{i}\n",
    "$$"
   ]
  },
  {
   "cell_type": "markdown",
   "id": "d26d1997-db25-4f94-91cc-a8e9fbfaf3c5",
   "metadata": {},
   "source": [
    "$$\n",
    "\\sigma = \\sqrt{\\dfrac{1}{n} \\sum_{t=1}^{n} (x_{i}-\\mu)^{2}}\n",
    "$$"
   ]
  },
  {
   "cell_type": "markdown",
   "id": "1d70080d-8db0-449d-9a82-034799869cd6",
   "metadata": {},
   "source": [
    "$$\n",
    "r = \\dfrac{\\sum_{i=1}^{n} (x_i-\\mu_X)(y_i-\\mu_Y)}{\\sqrt{\\sum_{i=1}^{n} (x_i-\\mu_X)^2(y_i-\\mu_Y)^2}}\n",
    "$$"
   ]
  },
  {
   "cell_type": "code",
   "execution_count": null,
   "id": "e1cf2020-6309-4814-b285-51e62311996c",
   "metadata": {},
   "outputs": [],
   "source": []
  }
 ],
 "metadata": {
  "kernelspec": {
   "display_name": "Python [conda env:base] *",
   "language": "python",
   "name": "conda-base-py"
  },
  "language_info": {
   "codemirror_mode": {
    "name": "ipython",
    "version": 3
   },
   "file_extension": ".py",
   "mimetype": "text/x-python",
   "name": "python",
   "nbconvert_exporter": "python",
   "pygments_lexer": "ipython3",
   "version": "3.12.2"
  },
  "toc": {
   "base_numbering": 1,
   "nav_menu": {},
   "number_sections": true,
   "sideBar": true,
   "skip_h1_title": false,
   "title_cell": "Table of Contents",
   "title_sidebar": "Contents",
   "toc_cell": false,
   "toc_position": {},
   "toc_section_display": true,
   "toc_window_display": false
  },
  "vscode": {
   "interpreter": {
    "hash": "31f2aee4e71d21fbe5cf8b01ff0e069b9275f58929596ceb00d14d90e3e16cd6"
   }
  }
 },
 "nbformat": 4,
 "nbformat_minor": 5
}
