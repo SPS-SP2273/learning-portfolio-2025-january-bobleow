{
 "cells": [
  {
   "attachments": {},
   "cell_type": "markdown",
   "id": "123456",
   "metadata": {},
   "source": [
    "<div style=\"text-align:left;font-size:2em\"><span style=\"font-weight:bolder;font-size:1.25em\">SP2273 | Learning Portfolio</span><br><br><span style=\"font-weight:bold;color:darkred\">Fundamentals (Need) Exercises</span></div>"
   ]
  },
  {
   "cell_type": "markdown",
   "id": "e02be8f3-960b-4c11-9e94-e42f64aa2080",
   "metadata": {},
   "source": [
    "print()\n",
    "\n",
    "python is case sensitive\n",
    "\n",
    "'#' to add comments - to emphasise uses of codes\n",
    "\n",
    "'=' and '==' not the same\n",
    "\n",
    "set smth equal vs check if smth is equal\n",
    "\n",
    "if, else\n",
    "\n",
    "spaces are impt\n",
    "\n",
    "print() vs print('')\n",
    "\n",
    "() math and functions\n",
    "[] lists of data\n",
    "\n",
    "and {} data, \"dictionary\"\n",
    "\n",
    "import to import other packages such as numpy and math\n",
    "\n",
    ". to ditate ownership\n",
    "\n",
    "eg \n",
    "\n",
    "import math\n",
    "math.sqrt(4)\n",
    "\n",
    "\"i am batman\".split()\n"
   ]
  },
  {
   "cell_type": "code",
   "execution_count": null,
   "id": "fde974e1-0e97-4cb2-8759-eae8725bef14",
   "metadata": {},
   "outputs": [],
   "source": [
    "x, y = 3, 4\n",
    "        z = sqrt(x*2 + y**2)\n",
    "    Print(x, y, z)"
   ]
  },
  {
   "cell_type": "code",
   "execution_count": 6,
   "id": "e68700d7-5ed0-4758-9637-64266227773a",
   "metadata": {},
   "outputs": [],
   "source": [
    "import math"
   ]
  },
  {
   "cell_type": "code",
   "execution_count": 40,
   "id": "8303de19-efac-42c9-950b-1390b935f8f1",
   "metadata": {},
   "outputs": [
    {
     "name": "stdout",
     "output_type": "stream",
     "text": [
      "3 4 5.0\n"
     ]
    }
   ],
   "source": [
    "x,y = 3,4\n",
    "\n",
    "z = math.sqrt(x**2 + y**2)\n",
    "\n",
    "print(x, y, z)"
   ]
  },
  {
   "cell_type": "markdown",
   "id": "dbb7d821-d2bb-4f1d-b150-e3347a2b353b",
   "metadata": {},
   "source": [
    "| #  | Term         | Description                                                                 |\n",
    "|----|--------------|-----------------------------------------------------------------------------|\n",
    "| 1  | Function     | To run codes                                                                |\n",
    "| 2  | Arguments    | Values given to a function                                                   |\n",
    "| 3  | Comments     | Explanation for codes that will not run as code                             |\n",
    "| 4  | Indentations | Designate a block of code                                                   |\n",
    "| 5  | Packages     | Templates that are stored elsewhere and can be used as add-ons for additional functions |\n",
    "| 6  | .            | To access packages and indicate ownership                                   |\n",
    "| 7  | :            | Used to indicate the start of an indented code block, e.g., in loops and functions |\n",
    "| 8  | []           | List                                                                         |\n",
    "| 9  | [[],[]]      | List of two lists                                                           |\n",
    "| 10 | {}           | Dictionary, data                                                            |"
   ]
  },
  {
   "cell_type": "code",
   "execution_count": 34,
   "id": "477d193d-3bcb-4032-a9e0-07c24c217e24",
   "metadata": {},
   "outputs": [
    {
     "data": {
      "text/plain": [
       "2.5"
      ]
     },
     "execution_count": 34,
     "metadata": {},
     "output_type": "execute_result"
    }
   ],
   "source": [
    "5/2 # gives floating point division, in my words - exact value"
   ]
  },
  {
   "cell_type": "code",
   "execution_count": 36,
   "id": "b526e1c5-ecc0-4f74-a0ba-6b8ce437904e",
   "metadata": {},
   "outputs": [
    {
     "data": {
      "text/plain": [
       "2"
      ]
     },
     "execution_count": 36,
     "metadata": {},
     "output_type": "execute_result"
    }
   ],
   "source": [
    "5//2 # gives integer division, in my words - integer without decimal"
   ]
  },
  {
   "cell_type": "code",
   "execution_count": 38,
   "id": "296cc799-7fbc-4a45-9e58-3740a04bb431",
   "metadata": {},
   "outputs": [
    {
     "data": {
      "text/plain": [
       "1"
      ]
     },
     "execution_count": 38,
     "metadata": {},
     "output_type": "execute_result"
    }
   ],
   "source": [
    "5%2 # gives the remainder after the division"
   ]
  },
  {
   "cell_type": "code",
   "execution_count": null,
   "id": "f2662b8e-5d8b-469a-9818-4f5de44fb673",
   "metadata": {},
   "outputs": [],
   "source": []
  }
 ],
 "metadata": {
  "kernelspec": {
   "display_name": "Python [conda env:base] *",
   "language": "python",
   "name": "conda-base-py"
  },
  "language_info": {
   "codemirror_mode": {
    "name": "ipython",
    "version": 3
   },
   "file_extension": ".py",
   "mimetype": "text/x-python",
   "name": "python",
   "nbconvert_exporter": "python",
   "pygments_lexer": "ipython3",
   "version": "3.12.2"
  },
  "toc": {
   "base_numbering": 1,
   "nav_menu": {},
   "number_sections": true,
   "sideBar": true,
   "skip_h1_title": false,
   "title_cell": "Table of Contents",
   "title_sidebar": "Contents",
   "toc_cell": false,
   "toc_position": {},
   "toc_section_display": true,
   "toc_window_display": false
  },
  "vscode": {
   "interpreter": {
    "hash": "31f2aee4e71d21fbe5cf8b01ff0e069b9275f58929596ceb00d14d90e3e16cd6"
   }
  }
 },
 "nbformat": 4,
 "nbformat_minor": 5
}
