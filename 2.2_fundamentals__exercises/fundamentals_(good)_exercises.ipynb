{
 "cells": [
  {
   "cell_type": "markdown",
   "id": "abb30471-72b9-40e8-a7c9-4746b56c3dfa",
   "metadata": {},
   "source": [
    "# "
   ]
  },
  {
   "attachments": {},
   "cell_type": "markdown",
   "id": "123456",
   "metadata": {},
   "source": [
    "<div style=\"text-align:left;font-size:2em\"><span style=\"font-weight:bolder;font-size:1.25em\">SP2273 | Learning Portfolio</span><br><br><span style=\"font-weight:bold;color:darkred\">Fundamentals (Good) Exercises</span></div>"
   ]
  },
  {
   "cell_type": "code",
   "execution_count": 21,
   "id": "f8036440-304b-426a-87c5-ba3b6d564164",
   "metadata": {},
   "outputs": [
    {
     "name": "stdin",
     "output_type": "stream",
     "text": [
      "What is your name? bb\n"
     ]
    },
    {
     "name": "stdout",
     "output_type": "stream",
     "text": [
      "How you doing bb !\n"
     ]
    }
   ],
   "source": [
    "user_input = input('What is your name?')\n",
    "\n",
    "print('How you doing',user_input,'!')"
   ]
  },
  {
   "cell_type": "code",
   "execution_count": 25,
   "id": "db25d2e3-9649-4e87-9390-fc3a45779611",
   "metadata": {},
   "outputs": [
    {
     "name": "stdin",
     "output_type": "stream",
     "text": [
      "What is your name? bb\n",
      "What is your age? 12\n"
     ]
    },
    {
     "name": "stdout",
     "output_type": "stream",
     "text": [
      "My name is bb and I am 12 years old.\n"
     ]
    }
   ],
   "source": [
    "user_input = input('What is your name?')\n",
    "age_input = input ('What is your age?')\n",
    "\n",
    "print('My name is',user_input,'and I am',age_input,'years old.')"
   ]
  },
  {
   "cell_type": "code",
   "execution_count": 30,
   "id": "563c4ff8-7cc2-42f9-a261-fc2a160b9400",
   "metadata": {},
   "outputs": [
    {
     "name": "stdout",
     "output_type": "stream",
     "text": [
      "The value of pi to 2 decimal places is: 3.14\n",
      "The value of pi to 3 decimal places is: 3.142\n",
      "The value of pi to 4 decimal places is: 3.1416\n"
     ]
    }
   ],
   "source": [
    "pi = 3.141592653589793\n",
    "\n",
    "print(f\"The value of pi to 2 decimal places is: {pi:.2f}\")\n",
    "print(f\"The value of pi to 3 decimal places is: {pi:.3f}\")\n",
    "print(f\"The value of pi to 4 decimal places is: {pi:.4f}\")"
   ]
  },
  {
   "cell_type": "code",
   "execution_count": 56,
   "id": "9e8f9ff4-ebd5-463b-94ca-c158e4351ec1",
   "metadata": {},
   "outputs": [
    {
     "name": "stdout",
     "output_type": "stream",
     "text": [
      "Fruit      Price \n",
      "Apple     $ 0.99 \n",
      "Banana    $ 0.59 \n",
      "Orange    $ 1.29 \n"
     ]
    }
   ],
   "source": [
    "fruits = [(\"Apple\", 0.99), (\"Banana\", 0.59), (\"Orange\", 1.29)]\n",
    "\n",
    "print(f\"{'Fruit':10} {'Price':<5} \")\n",
    "\n",
    "for fruit, price in fruits:\n",
    "    print(f\"{fruit:<10}${price:5} \")"
   ]
  },
  {
   "cell_type": "code",
   "execution_count": null,
   "id": "65f91d64-df18-4371-9b06-99f2c0c0037b",
   "metadata": {},
   "outputs": [],
   "source": [
    "while True:    \n",
    "    try:\n",
    "    \n",
    "        grade = float(input(\"Enter the student's score: \"))\n",
    "        \n",
    "        if 70 <= grade <= 100:\n",
    "            letter_grade = \"A\"\n",
    "        elif 50 <= grade < 70:\n",
    "            letter_grade = \"B\"\n",
    "        elif 35 <= grade < 50:\n",
    "            letter_grade = \"C\"\n",
    "        elif 0 <= grade < 35:\n",
    "            letter_grade = \"Fail\"\n",
    "        else:\n",
    "            letter_grade = \"Invalid grade.\"\n",
    "    \n",
    "        print(f\"The student's letter grade is: {letter_grade}\")\n",
    "        break\n",
    "    \n",
    "    \n",
    "    except ValueError:\n",
    "        print(\"Invalid input! Please enter a valid number.\")\n"
   ]
  },
  {
   "cell_type": "code",
   "execution_count": 120,
   "id": "6446d89d-47d4-415a-9bd0-72a4e5b800bd",
   "metadata": {},
   "outputs": [
    {
     "name": "stdout",
     "output_type": "stream",
     "text": [
      "120\n",
      "Invalid input\n"
     ]
    }
   ],
   "source": [
    "def factorial(n):\n",
    "    # changed > to < to exclude negative numbers instead\n",
    "    if n < 0:\n",
    "        return \"Invalid input\"\n",
    "    # removed ! and included == instead of =    \n",
    "    elif n == 0:\n",
    "        return 1\n",
    "    else:\n",
    "        result = 1\n",
    "        for number in range(1, n+1):\n",
    "            # changed += to *= as it is supposed to multiply not plus\n",
    "            result *= number\n",
    "        return result\n",
    "\n",
    "\n",
    "print(factorial(5))   # Testing, expected output: 120\n",
    "print(factorial(-1))  # Testing, expected output: Invalid input"
   ]
  },
  {
   "cell_type": "code",
   "execution_count": null,
   "id": "a2885162-3430-419c-8bc5-3ba0d52e5125",
   "metadata": {},
   "outputs": [],
   "source": []
  }
 ],
 "metadata": {
  "kernelspec": {
   "display_name": "Python [conda env:base] *",
   "language": "python",
   "name": "conda-base-py"
  },
  "language_info": {
   "codemirror_mode": {
    "name": "ipython",
    "version": 3
   },
   "file_extension": ".py",
   "mimetype": "text/x-python",
   "name": "python",
   "nbconvert_exporter": "python",
   "pygments_lexer": "ipython3",
   "version": "3.12.2"
  },
  "toc": {
   "base_numbering": 1,
   "nav_menu": {},
   "number_sections": true,
   "sideBar": true,
   "skip_h1_title": false,
   "title_cell": "Table of Contents",
   "title_sidebar": "Contents",
   "toc_cell": false,
   "toc_position": {},
   "toc_section_display": true,
   "toc_window_display": false
  },
  "vscode": {
   "interpreter": {
    "hash": "31f2aee4e71d21fbe5cf8b01ff0e069b9275f58929596ceb00d14d90e3e16cd6"
   }
  }
 },
 "nbformat": 4,
 "nbformat_minor": 5
}
