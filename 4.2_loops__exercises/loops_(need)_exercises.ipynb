{
 "cells": [
  {
   "attachments": {},
   "cell_type": "markdown",
   "id": "123456",
   "metadata": {},
   "source": [
    "<div style=\"text-align:left;font-size:2em\"><span style=\"font-weight:bolder;font-size:1.25em\">SP2273 | Learning Portfolio</span><br><br><span style=\"font-weight:bold;color:darkred\">Loops (Need) Exercises</span></div>"
   ]
  },
  {
   "cell_type": "code",
   "execution_count": 9,
   "id": "a5d3c759-178e-4b7d-85d8-51254f6dd271",
   "metadata": {},
   "outputs": [
    {
     "name": "stdout",
     "output_type": "stream",
     "text": [
      "0°C and 32.0°F\n",
      "5°C and 41.0°F\n",
      "10°C and 50.0°F\n",
      "15°C and 59.0°F\n",
      "20°C and 68.0°F\n",
      "25°C and 77.0°F\n",
      "30°C and 86.0°F\n",
      "35°C and 95.0°F\n",
      "40°C and 104.0°F\n",
      "45°C and 113.0°F\n",
      "50°C and 122.0°F\n"
     ]
    }
   ],
   "source": [
    "temperatures_celsius = [\n",
    "    0, 5, 10, 15, 20, 25,\n",
    "    30, 35, 40, 45, 50\n",
    "]\n",
    "\n",
    "for temp_c in temperatures_celsius:\n",
    "    temp_f = (temp_c * 9/5) + 32\n",
    "    print(f\"{temp_c}°C and {temp_f}°F\")\n"
   ]
  },
  {
   "cell_type": "code",
   "execution_count": 31,
   "id": "bdd723b8-fc03-4621-a680-001d74d0d9ac",
   "metadata": {},
   "outputs": [
    {
     "name": "stdout",
     "output_type": "stream",
     "text": [
      "1 [1, 2, 3, 4, 5]\n",
      "2 [1, 2, 3, 4, 5, 1, 2, 3, 4, 5]\n",
      "3 [1, 2, 3, 4, 5, 1, 2, 3, 4, 5, 1, 2, 3, 4, 5]\n",
      "4 [1, 2, 3, 4, 5, 1, 2, 3, 4, 5, 1, 2, 3, 4, 5, 1, 2, 3, 4, 5]\n",
      "5 [1, 2, 3, 4, 5, 1, 2, 3, 4, 5, 1, 2, 3, 4, 5, 1, 2, 3, 4, 5, 1, 2, 3, 4, 5]\n"
     ]
    }
   ],
   "source": [
    "#testing\n",
    "\n",
    "for i in range (1,6):\n",
    "\n",
    "    row = [j for j in range(1,6)]\n",
    "    print(f\"{i}\", i*row)\n"
   ]
  },
  {
   "cell_type": "code",
   "execution_count": 33,
   "id": "deeb9b38-06ec-449c-acc4-bdf0c9d13112",
   "metadata": {},
   "outputs": [
    {
     "name": "stdout",
     "output_type": "stream",
     "text": [
      "1 : 1 2 3 4 5\n",
      "2 : 2 4 6 8 10\n",
      "3 : 3 6 9 12 15\n",
      "4 : 4 8 12 16 20\n",
      "5 : 5 10 15 20 25\n"
     ]
    }
   ],
   "source": [
    "\n",
    "for i in range(1, 6):  \n",
    "    row = [i * j for j in range(1, 6)] \n",
    "    print(f\"{i} :\", *row) \n"
   ]
  },
  {
   "cell_type": "code",
   "execution_count": 35,
   "id": "22d29655-3248-4c60-834c-aabf2a00a6b1",
   "metadata": {},
   "outputs": [
    {
     "data": {
      "text/plain": [
       "array([0.7261013 , 0.50354648, 0.35310125, 0.61583976, 0.60147323,\n",
       "       0.45101501, 0.65294512, 0.22064816, 0.2338474 , 0.66427834])"
      ]
     },
     "execution_count": 35,
     "metadata": {},
     "output_type": "execute_result"
    }
   ],
   "source": [
    "import numpy as np\n",
    "\n",
    "np.random.rand(10)\n"
   ]
  },
  {
   "cell_type": "code",
   "execution_count": 49,
   "id": "479c194a-695b-439d-bba8-ffac84dd781d",
   "metadata": {},
   "outputs": [
    {
     "name": "stdout",
     "output_type": "stream",
     "text": [
      "Exeperiment 10: No. of Heads = [0.64462592 0.55487667 0.22096357 0.83791435 0.53380024 0.36048944\n",
      " 0.44546852 0.11826995 0.70999085 0.68737121]\n"
     ]
    }
   ],
   "source": [
    "import numpy as np\n",
    "\n",
    "experiments = 10\n",
    "flips = 10\n",
    "\n",
    "for experiment in range(1,experiments + 1):\n",
    "    flips =[np.random.rand(10) for ]\n",
    "\n",
    "    heads = sum(flips)\n",
    "\n",
    "print (f\"Exeperiment {experiment}: No. of Heads = {heads}\")"
   ]
  },
  {
   "cell_type": "code",
   "execution_count": 64,
   "id": "974b26a9-4498-48f9-9dfb-5ae65f65d3d3",
   "metadata": {},
   "outputs": [
    {
     "name": "stdout",
     "output_type": "stream",
     "text": [
      "Exeperiment 1: No. of Heads = 6\n",
      "Exeperiment 2: No. of Heads = 5\n",
      "Exeperiment 3: No. of Heads = 5\n",
      "Exeperiment 4: No. of Heads = 7\n",
      "Exeperiment 5: No. of Heads = 5\n",
      "Exeperiment 6: No. of Heads = 4\n",
      "Exeperiment 7: No. of Heads = 5\n",
      "Exeperiment 8: No. of Heads = 6\n",
      "Exeperiment 9: No. of Heads = 5\n",
      "Exeperiment 10: No. of Heads = 6\n"
     ]
    }
   ],
   "source": [
    "import numpy as np\n",
    "\n",
    "experiments = 10\n",
    "flips = 10\n",
    "\n",
    "for experiment in range(1,experiments + 1):\n",
    "    flip = (np.random.rand(flips) > 0.5).astype(int)\n",
    "    heads = np.sum(flip)\n",
    "\n",
    "    print (f\"Exeperiment {experiment}: No. of Heads = {heads}\")"
   ]
  },
  {
   "cell_type": "code",
   "execution_count": null,
   "id": "d99bf183-1e99-4980-b7c5-af2487ea2465",
   "metadata": {},
   "outputs": [],
   "source": []
  }
 ],
 "metadata": {
  "kernelspec": {
   "display_name": "Python [conda env:base] *",
   "language": "python",
   "name": "conda-base-py"
  },
  "language_info": {
   "codemirror_mode": {
    "name": "ipython",
    "version": 3
   },
   "file_extension": ".py",
   "mimetype": "text/x-python",
   "name": "python",
   "nbconvert_exporter": "python",
   "pygments_lexer": "ipython3",
   "version": "3.12.2"
  },
  "toc": {
   "base_numbering": 1,
   "nav_menu": {},
   "number_sections": true,
   "sideBar": true,
   "skip_h1_title": false,
   "title_cell": "Table of Contents",
   "title_sidebar": "Contents",
   "toc_cell": false,
   "toc_position": {},
   "toc_section_display": true,
   "toc_window_display": false
  },
  "vscode": {
   "interpreter": {
    "hash": "31f2aee4e71d21fbe5cf8b01ff0e069b9275f58929596ceb00d14d90e3e16cd6"
   }
  }
 },
 "nbformat": 4,
 "nbformat_minor": 5
}
