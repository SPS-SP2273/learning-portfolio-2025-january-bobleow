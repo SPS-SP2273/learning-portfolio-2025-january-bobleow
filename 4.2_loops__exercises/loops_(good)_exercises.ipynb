{
 "cells": [
  {
   "attachments": {},
   "cell_type": "markdown",
   "id": "123456",
   "metadata": {},
   "source": [
    "<div style=\"text-align:left;font-size:2em\"><span style=\"font-weight:bolder;font-size:1.25em\">SP2273 | Learning Portfolio</span><br><br><span style=\"font-weight:bold;color:darkred\">Loops (Good) Exercises</span></div>"
   ]
  },
  {
   "cell_type": "code",
   "execution_count": 21,
   "id": "6f3441d7-8c1d-403f-8d74-71624bccb049",
   "metadata": {},
   "outputs": [
    {
     "name": "stdout",
     "output_type": "stream",
     "text": [
      "[1, 9, 25, 49, 81]\n"
     ]
    }
   ],
   "source": [
    "squares = []\n",
    "\n",
    "for number in range (1,10):\n",
    "    if number % 2 == 0:\n",
    "        continue\n",
    "    squares.append(number ** 2)\n",
    "\n",
    "print(squares)"
   ]
  },
  {
   "cell_type": "code",
   "execution_count": 25,
   "id": "97d92505-a3f3-4213-85d5-1ceadee7242e",
   "metadata": {},
   "outputs": [
    {
     "name": "stdout",
     "output_type": "stream",
     "text": [
      "[1, 9, 25, 49, 81]\n"
     ]
    }
   ],
   "source": [
    "squares = [number ** 2 for number in range (1,10) if number % 2 != 0]\n",
    "\n",
    "print (squares)"
   ]
  },
  {
   "cell_type": "code",
   "execution_count": 81,
   "id": "818790e5-a6da-4f7f-ab79-904544950a58",
   "metadata": {},
   "outputs": [
    {
     "name": "stdout",
     "output_type": "stream",
     "text": [
      "[1, 9, 25, 49, 81]\n"
     ]
    }
   ],
   "source": [
    "squares = []\n",
    "\n",
    "for number in range (1,10):\n",
    "    if number % 2 == 0:\n",
    "        continue\n",
    "    squares.append(number ** 2)\n",
    "\n",
    "print(squares)"
   ]
  },
  {
   "cell_type": "code",
   "execution_count": 83,
   "id": "8fc72fc4-be2e-4e4a-9e9a-f5a8b9cedbb6",
   "metadata": {},
   "outputs": [
    {
     "name": "stdout",
     "output_type": "stream",
     "text": [
      "570 ns ± 1.21 ns per loop (mean ± std. dev. of 7 runs, 1,000,000 loops each)\n"
     ]
    }
   ],
   "source": [
    "%%timeit \n",
    "squares = []\n",
    "\n",
    "for number in range (1,10):\n",
    "    if number % 2 == 0:\n",
    "        continue\n",
    "    squares.append(number ** 2)\n"
   ]
  },
  {
   "cell_type": "code",
   "execution_count": 85,
   "id": "23ec64b0-d214-45f2-b8b0-f8163507ca02",
   "metadata": {},
   "outputs": [
    {
     "name": "stdout",
     "output_type": "stream",
     "text": [
      "[1, 9, 25, 49, 81]\n"
     ]
    }
   ],
   "source": [
    "squares = [number ** 2 for number in range (1,10) if number % 2 != 0]\n",
    "\n",
    "print (squares)"
   ]
  },
  {
   "cell_type": "code",
   "execution_count": 88,
   "id": "a596991f-31a7-4ae3-8969-5f87483dfede",
   "metadata": {},
   "outputs": [
    {
     "name": "stdout",
     "output_type": "stream",
     "text": [
      "547 ns ± 0.884 ns per loop (mean ± std. dev. of 7 runs, 1,000,000 loops each)\n"
     ]
    }
   ],
   "source": [
    "%%timeit\n",
    "\n",
    "squares = [number ** 2 for number in range (1,10) if number % 2 != 0]\n"
   ]
  },
  {
   "cell_type": "markdown",
   "id": "42d521e6-9f11-4822-8389-d6b4812a3b7d",
   "metadata": {},
   "source": [
    "the second code was faster as the code was just one loop and easier for the comp to follow through?"
   ]
  },
  {
   "cell_type": "code",
   "execution_count": 45,
   "id": "c16aedae-91b5-45e8-9123-ee90b0d2abb0",
   "metadata": {},
   "outputs": [
    {
     "name": "stdout",
     "output_type": "stream",
     "text": [
      "To reduce half its orginal amont, it will take 14 years\n"
     ]
    }
   ],
   "source": [
    "initial = 100\n",
    "years = 0\n",
    "\n",
    "now = initial\n",
    "\n",
    "while now > initial/2:\n",
    "    now -= now * 0.05\n",
    "    years += 1\n",
    "\n",
    "print (f\"To reduce half its orginal amont, it will take {years} years\")"
   ]
  },
  {
   "cell_type": "code",
   "execution_count": 71,
   "id": "a350ab6f-c808-4392-b490-33fd19944016",
   "metadata": {},
   "outputs": [
    {
     "name": "stdout",
     "output_type": "stream",
     "text": [
      "In year 2016, CO2 increased by 3.41 ppm\n"
     ]
    }
   ],
   "source": [
    "co2_data = [\n",
    "    (2000, 369.55), (2001, 371.14), (2002, 373.28), \n",
    "    (2003, 375.80), (2004, 377.52), (2005, 379.80), \n",
    "    (2006, 381.90), (2007, 383.79), (2008, 385.60), \n",
    "    (2009, 387.43), (2010, 389.90), (2011, 391.65), \n",
    "    (2012, 393.85), (2013, 396.52), (2014, 398.65),\n",
    "    (2015, 400.83), (2016, 404.24), (2017, 406.55), \n",
    "    (2018, 408.52), (2019, 411.44), (2020, 414.24)\n",
    "]\n",
    "\n",
    "for i in range(1, len(co2_data)):\n",
    "    year, co2level= co2_data[i]\n",
    "    prevyear, prevco2level = co2_data[i-1]\n",
    "\n",
    "    change = co2level - prevco2level\n",
    "\n",
    "    if change >= 3:\n",
    "       print(f\"In year {year}, CO2 increased by {change:.2f} ppm\")\n"
   ]
  },
  {
   "cell_type": "code",
   "execution_count": 67,
   "id": "4279d81e-991f-4a8c-ae08-44f9215e064b",
   "metadata": {},
   "outputs": [
    {
     "name": "stdout",
     "output_type": "stream",
     "text": [
      "Year: 2016, CO2 increase: 3.41 ppm\n"
     ]
    }
   ],
   "source": [
    "co2_data = [\n",
    "    (2000, 369.55), (2001, 371.14), (2002, 373.28),\n",
    "    (2003, 375.80), (2004, 377.52), (2005, 379.80),\n",
    "    (2006, 381.90), (2007, 383.79), (2008, 385.60),\n",
    "    (2009, 387.43), (2010, 389.90), (2011, 391.65),\n",
    "    (2012, 393.85), (2013, 396.52), (2014, 398.65),\n",
    "    (2015, 400.83), (2016, 404.24), (2017, 406.55),\n",
    "    (2018, 408.52), (2019, 411.44), (2020, 414.24)\n",
    "]\n",
    "\n",
    "# Iterate through the data, starting from the second year\n",
    "for i in range(1, len(co2_data)):\n",
    "    year, co2_level = co2_data[i]   # Current year and CO2 level\n",
    "    prev_year, prev_co2_level = co2_data[i - 1]  # Previous year and CO2 level\n",
    "\n",
    "    # Calculate the change in CO2 levels\n",
    "    change = co2_level - prev_co2_level\n",
    "\n",
    "    # If the change is 3 ppm or more, print the year and the change\n",
    "    if change >= 3:\n",
    "        print(f\"Year: {year}, CO2 increase: {change:.2f} ppm\")\n"
   ]
  },
  {
   "cell_type": "code",
   "execution_count": null,
   "id": "007bc13e-b450-4350-be10-e12bf3a29dfd",
   "metadata": {},
   "outputs": [],
   "source": []
  }
 ],
 "metadata": {
  "kernelspec": {
   "display_name": "Python [conda env:base] *",
   "language": "python",
   "name": "conda-base-py"
  },
  "language_info": {
   "codemirror_mode": {
    "name": "ipython",
    "version": 3
   },
   "file_extension": ".py",
   "mimetype": "text/x-python",
   "name": "python",
   "nbconvert_exporter": "python",
   "pygments_lexer": "ipython3",
   "version": "3.12.2"
  },
  "toc": {
   "base_numbering": 1,
   "nav_menu": {},
   "number_sections": true,
   "sideBar": true,
   "skip_h1_title": false,
   "title_cell": "Table of Contents",
   "title_sidebar": "Contents",
   "toc_cell": false,
   "toc_position": {},
   "toc_section_display": true,
   "toc_window_display": false
  },
  "vscode": {
   "interpreter": {
    "hash": "31f2aee4e71d21fbe5cf8b01ff0e069b9275f58929596ceb00d14d90e3e16cd6"
   }
  }
 },
 "nbformat": 4,
 "nbformat_minor": 5
}
