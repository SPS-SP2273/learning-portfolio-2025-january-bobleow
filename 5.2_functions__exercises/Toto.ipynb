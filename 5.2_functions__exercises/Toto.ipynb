{
 "cells": [
  {
   "cell_type": "code",
   "execution_count": 19,
   "id": "358757e7-b7b9-4516-b5f7-eba0110aba2e",
   "metadata": {},
   "outputs": [
    {
     "name": "stdin",
     "output_type": "stream",
     "text": [
      "Do you 6 numbers today?  yes\n"
     ]
    },
    {
     "name": "stdout",
     "output_type": "stream",
     "text": [
      "None\n"
     ]
    }
   ],
   "source": [
    "def flipcoin(reply):\n",
    "    if reply.lower == 'no':\n",
    "        return \"Okay good day sir\"\n",
    "    if reply.lower == 'yes':\n",
    "        sixnumbers = np.random.randint(1,101,6)\n",
    "        return sixnumbers\n",
    "\n",
    "try:\n",
    "    reply = input(\"Do you 6 numbers today? \")\n",
    "    fc = flipcoin(reply)\n",
    "    print(f\"{fc}\")\n",
    "\n",
    "\n",
    "except ValueError:\n",
    "    print(\"Please answer only yes or no\")"
   ]
  },
  {
   "cell_type": "code",
   "execution_count": null,
   "id": "d9b2a378-0fe0-4719-861a-01c29018a835",
   "metadata": {},
   "outputs": [],
   "source": []
  }
 ],
 "metadata": {
  "kernelspec": {
   "display_name": "Python [conda env:base] *",
   "language": "python",
   "name": "conda-base-py"
  },
  "language_info