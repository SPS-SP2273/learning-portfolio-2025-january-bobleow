{
 "cells": [
  {
   "attachments": {},
   "cell_type": "markdown",
   "id": "123456",
   "metadata": {},
   "source": [
    "<div style=\"text-align:left;font-size:2em\"><span style=\"font-weight:bolder;font-size:1.25em\">SP2273 | Learning Portfolio</span><br><br><span style=\"font-weight:bold;color:darkred\">Functions (Good) Exercises</span></div>"
   ]
  },
  {
   "cell_type": "code",
   "execution_count": null,
   "id": "b0f7a0ee-08df-453c-836d-b59db003fcee",
   "metadata": {},
   "outputs": [],
   "source": [
    "def convert_celsius(temperature_celsius, target_scale='Fahrenheit'):\n",
    "    \n",
    "    if target_scale.lower() == 'kelvin':\n",
    "        # To kelvin\n",
    "        return temperature_celsius + 273.15\n",
    "    else:\n",
    "        # To fahrenheit\n",
    "        return (temperature_celsius * 9/5) + 32\n"
   ]
  },
  {
   "cell_type": "code",
   "execution_count": null,
   "id": "f77ecb8b-eee3-4f37-8c45-d60d8d685855",
   "metadata": {},
   "outputs": [],
   "source": [
    "def convert_fahrenheit(temperature_fahrenheit, target_scale='Celsius'):\n",
    "    \n",
    "    if target_scale.lower() == 'kelvin':\n",
    "        # To kelvin\n",
    "        return (temperature_fahrenheit - 32) * 5/9 + 273.15\n",
    "    else:\n",
    "        # To celsius\n",
    "        return (temperature_fahrenheit - 32) * 5/9\n"
   ]
  },
  {
   "cell_type": "code",
   "execution_count": 5,
   "id": "35a10b18-5948-40db-8b29-f38cebe5face",
   "metadata": {},
   "outputs": [
    {
     "name": "stdin",
     "output_type": "stream",
     "text": [
      "Enter the temperature:  50\n",
      "Enter the source scale (Celsius, Fahrenheit, or Kelvin):  Celsius\n",
      "Enter the target scale (Celsius, Fahrenheit, or Kelvin):  Kelvin\n"
     ]
    },
    {
     "name": "stdout",
     "output_type": "stream",
     "text": [
      "The temperature 50.0 Celsius is equal to 323.15 Kelvin.\n"
     ]
    }
   ],
   "source": [
    "def convert_celsius(temperature_celsius, target_scale='Fahrenheit'):\n",
    "    \n",
    "    if target_scale.lower() == 'kelvin':\n",
    "        # To kelvin\n",
    "        return temperature_celsius + 273.15\n",
    "    else:\n",
    "        # To fahrenheit\n",
    "        return (temperature_celsius * 9/5) + 32\n",
    "\n",
    "def convert_fahrenheit(temperature_fahrenheit, target_scale='Celsius'):\n",
    "    \n",
    "    if target_scale.lower() == 'kelvin':\n",
    "        # To kelvin\n",
    "        return (temperature_fahrenheit - 32) * 5/9 + 273.15\n",
    "    else:\n",
    "        # To celsius\n",
    "        return (temperature_fahrenheit - 32) * 5/9\n",
    "    \n",
    "def convert_temperature(temperature, source_scale, target_scale):\n",
    " \n",
    "    if source_scale.lower() == 'celsius':\n",
    "        temperature_celsius = temperature\n",
    "    elif source_scale.lower() == 'fahrenheit':\n",
    "        temperature_celsius = (temperature - 32) * 5/9\n",
    "    elif source_scale.lower() == 'kelvin':\n",
    "        temperature_celsius = temperature - 273.15\n",
    "    else:\n",
    "        raise ValueError(\"Invalid source scale. Use 'Celsius', 'Fahrenheit', or 'Kelvin'.\")\n",
    "    \n",
    "   \n",
    "    if target_scale.lower() == 'celsius':\n",
    "        return temperature_celsius\n",
    "    elif target_scale.lower() == 'fahrenheit':\n",
    "        return convert_celsius(temperature_celsius, 'Fahrenheit')\n",
    "    elif target_scale.lower() == 'kelvin':\n",
    "        return convert_celsius(temperature_celsius, 'Kelvin')\n",
    "    else:\n",
    "        raise ValueError(\"Invalid target scale. Use 'Celsius', 'Fahrenheit', or 'Kelvin'.\")\n",
    "\n",
    "\n",
    "\n",
    "\n",
    "temperature = float(input(\"Enter the temperature: \"))\n",
    "source_scale = input(\"Enter the source scale (Celsius, Fahrenheit, or Kelvin): \").strip()\n",
    "target_scale = input(\"Enter the target scale (Celsius, Fahrenheit, or Kelvin): \").strip()\n",
    "    \n",
    "\n",
    "try:\n",
    "    result = convert_temperature(temperature, source_scale, target_scale)\n",
    "    print(f\"The temperature {temperature} {source_scale} is equal to {result} {target_scale}.\")\n",
    "except ValueError as e:\n",
    "    print(e)"
   ]
  },
  {
   "cell_type": "code",
   "execution_count": null,
   "id": "6b41efc1-b87c-403c-bb6d-850e71107286",
   "metadata": {},
   "outputs": [],
   "source": []
  }
 ],
 "metadata": {
  "kernelspec": {
   "display_name": "Python [conda env:base] *",
   "language": "python",
   "name": "conda-base-py"
  },
  "language_info": {
   "codemirror_mode": {
    "name": "ipython",
    "version": 3
   },
   "file_extension": ".py",
   "mimetype": "text/x-python",
   "name": "python",
   "nbconvert_exporter": "python",
   "pygments_lexer": "ipython3",
   "version": "3.12.2"
  },
  "toc": {
   "base_numbering": 1,
   "nav_menu": {},
   "number_sections": true,
   "sideBar": true,
   "skip_h1_title": false,
   "title_cell": "Table of Contents",
   "title_sidebar": "Contents",
   "toc_cell": false,
   "toc_position": {},
   "toc_section_display": true,
   "toc_window_display": false
  },
  "vscode": {
   "interpreter": {
    "hash": "31f2aee4e71d21fbe5cf8b01ff0e069b9275f58929596ceb00d14d90e3e16cd6"
   }
  }
 },
 "nbformat": 4,
 "nbformat_minor": 5
}
