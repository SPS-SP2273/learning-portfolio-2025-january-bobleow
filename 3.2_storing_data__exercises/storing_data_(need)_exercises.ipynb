{
 "cells": [
  {
   "attachments": {},
   "cell_type": "markdown",
   "id": "123456",
   "metadata": {},
   "source": [
    "<div style=\"text-align:left;font-size:2em\"><span style=\"font-weight:bolder;font-size:1.25em\">SP2273 | Learning Portfolio</span><br><br><span style=\"font-weight:bold;color:darkred\">Storing Data (Need) Exercises</span></div>"
   ]
  },
  {
   "cell_type": "markdown",
   "id": "8d60d055-d608-45bd-a2b2-0428fe54552e",
   "metadata": {},
   "source": [
    "Exercise 1\n",
    "\n",
    "2 similarities will be\n",
    "\n",
    "both stores data\n",
    "order matters for both \n",
    "\n",
    "2 differences will be\n",
    "\n",
    "lists can hold different data types while arrays can only have a single data type\n",
    "\n",
    "when u add a list to alist, the list grows. but when u add an array to an array, the data in the arrays will be added to each other\n",
    "\n",
    "a dictionary holds all the data and can pair lists/arrays together"
   ]
  },
  {
   "cell_type": "code",
   "execution_count": 127,
   "id": "09642e6c-db6d-4cf5-a31a-a74ca3ec384e",
   "metadata": {},
   "outputs": [
    {
     "name": "stdout",
     "output_type": "stream",
     "text": [
      "a1\n",
      "c3\n",
      "e5\n",
      "g7\n",
      "i9\n"
     ]
    }
   ],
   "source": [
    "#exercise 2\n",
    "\n",
    "py_list = [\"a1\", \"b2\", \"c3\", \"d4\", \"e5\", \"f6\", \"g7\", \"h8\", \"i9\", \"j10\"]\n",
    "\n",
    "print(py_list[0])\n",
    "print(py_list[2])\n",
    "print(py_list[4])\n",
    "print(py_list[6])\n",
    "print(py_list[8])"
   ]
  },
  {
   "cell_type": "code",
   "execution_count": 119,
   "id": "aa23c376-d2d2-48bd-8358-c3cc041191c8",
   "metadata": {},
   "outputs": [
    {
     "data": {
      "text/plain": [
       "'Beryllium'"
      ]
     },
     "execution_count": 119,
     "metadata": {},
     "output_type": "execute_result"
    }
   ],
   "source": [
    "#exercise 3\n",
    "\n",
    "py_elements = ['Hydrogen',\n",
    "            'Helium', 'Lithium',\n",
    "            'Beryllium', 'Boron', 'Carbon',\n",
    "            'Nitrogen', 'Oxygen',\n",
    "            'Fluorine',\n",
    "            'Neon']\n",
    "\n",
    "py_elements[3]\n"
   ]
  },
  {
   "cell_type": "code",
   "execution_count": 133,
   "id": "8243518d-8b8b-45a7-a81d-ec79f0ed2f65",
   "metadata": {},
   "outputs": [
    {
     "data": {
      "text/plain": [
       "'Beryllium'"
      ]
     },
     "execution_count": 133,
     "metadata": {},
     "output_type": "execute_result"
    }
   ],
   "source": [
    "py_elements[-7]"
   ]
  },
  {
   "cell_type": "code",
   "execution_count": 63,
   "id": "ba9582c1-e6a9-4715-a540-c6c3513d5297",
   "metadata": {},
   "outputs": [
    {
     "name": "stdout",
     "output_type": "stream",
     "text": [
      "The number 1 appears 9 times in the array.\n"
     ]
    }
   ],
   "source": [
    "#exercise 4\n",
    "\n",
    "import numpy as np\n",
    "\n",
    "numbers = [45, 60, 1, 30, 96, 1, 96, 57, 16, 1,\n",
    "           99, 62, 86, 43, 42, 60, 59, 1, 1, 35,\n",
    "           83, 47, 34, 28, 68, 23, 22, 92, 1, 79,\n",
    "           1, 29, 94, 72, 46, 47, 1, 74, 32, 20,\n",
    "           8, 37, 35, 1, 89, 29, 86, 19, 43, 61]\n",
    "\n",
    "numbers_array = np.array(numbers)\n",
    "\n",
    "count = np.sum(numbers_array == 1)\n",
    "\n",
    "print(f\"The number 1 appears {count} times in the array.\")\n"
   ]
  },
  {
   "cell_type": "code",
   "execution_count": 117,
   "id": "397178f7-dc3b-4e7d-8a59-1cffc9dc9a12",
   "metadata": {},
   "outputs": [
    {
     "name": "stdout",
     "output_type": "stream",
     "text": [
      "mean of x1 = 38.5\n",
      "mean of x2 = 302.5\n",
      "SD of x1 = 32.41990129534635\n",
      "SD of x2 = 326.0893282522444\n",
      "manual coefficient calculation = 0.9871796626270701\n",
      "formula coefficient calculation = 0.9871796626270701\n"
     ]
    }
   ],
   "source": [
    "#exercise 5\n",
    "import numpy as np\n",
    "\n",
    "x_1 = [1, 4, 9, 16, 25, 36, 49, 64, 81, 100]\n",
    "x_2 = [1, 8, 27, 64, 125, 216, 343, 512, 729, 1000]\n",
    "\n",
    "# Determine the means of x1 and x2\n",
    "\n",
    "mean_of_x1 = np.mean(x_1)\n",
    "\n",
    "mean_of_x2 = np.mean(x_2)\n",
    "              \n",
    "print (f\"mean of x1 = {np.mean(x_1)}\")\n",
    "print (f\"mean of x2 = {np.mean(x_2)}\")\n",
    "\n",
    "# Standard Deviations\n",
    "print (f\"SD of x1 = {np.std(x_1)}\")\n",
    "print (f\"SD of x2 = {np.std(x_2)}\")\n",
    "\n",
    "# Pearson correlation coefficient r\n",
    "\n",
    "numerator = np.sum((x_1 - mean_of_x1) * (x_2 - mean_of_x2))\n",
    "coefficient = numerator / (np.sqrt(np.sum((x_1 - mean_of_x1)**2) * np.sum((x_2 - mean_of_x2)**2)))\n",
    "\n",
    "print (f\"manual coefficient calculation = {coefficient}\")\n",
    "\n",
    "# using np formula\n",
    "matrix = np.corrcoef(x_1, x_2)\n",
    "auto = matrix[0, 1]\n",
    "\n",
    "print (f\"formula coefficient calculation = {auto}\")\n"
   ]
  },
  {
   "cell_type": "code",
   "execution_count": null,
   "id": "916e4aea-837b-4ba4-aeca-89eb39035415",
   "metadata": {},
   "outputs": [],
   "source": []
  }
 ],
 "metadata": {
  "kernelspec": {
   "display_name": "Python [conda env:base] *",
   "language": "python",
   "name": "conda-base-py"
  },
  "language_info": {
   "codemirror_mode": {
    "name": "ipython",
    "version": 3
   },
   "file_extension": ".py",
   "mimetype": "text/x-python",
   "name": "python",
   "nbconvert_exporter": "python",
   "pygments_lexer": "ipython3",
   "version": "3.12.2"
  },
  "toc": {
   "base_numbering": 1,
   "nav_menu": {},
   "number_sections": true,
   "sideBar": true,
   "skip_h1_title": false,
   "title_cell": "Table of Contents",
   "title_sidebar": "Contents",
   "toc_cell": false,
   "toc_position": {},
   "toc_section_display": true,
   "toc_window_display": false
  },
  "vscode": {
   "interpreter": {
    "hash": "31f2aee4e71d21fbe5cf8b01ff0e069b9275f58929596ceb00d14d90e3e16cd6"
   }
  }
 },
 "nbformat": 4,
 "nbformat_minor": 5
}
