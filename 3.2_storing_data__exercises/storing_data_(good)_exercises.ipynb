{
 "cells": [
  {
   "attachments": {},
   "cell_type": "markdown",
   "id": "123456",
   "metadata": {},
   "source": [
    "<div style=\"text-align:left;font-size:2em\"><span style=\"font-weight:bolder;font-size:1.25em\">SP2273 | Learning Portfolio</span><br><br><span style=\"font-weight:bold;color:darkred\">Storing Data (Good) Exercises</span></div>"
   ]
  },
  {
   "cell_type": "markdown",
   "id": "710af1b3-22bf-4ad8-adcb-5aaa1afc1e14",
   "metadata": {},
   "source": [
    "subsetting - selecting from a set to make another set\n",
    "\n",
    "indexing - selecting specific elements from list\n",
    "\n",
    "slicing - selectin a range of elements\n",
    "\n",
    "masking - hiding some elements that you dont want to see"
   ]
  },
  {
   "cell_type": "code",
   "execution_count": 3,
   "id": "c43536d2-a56a-4890-97a6-1b5393496c34",
   "metadata": {},
   "outputs": [
    {
     "name": "stdout",
     "output_type": "stream",
     "text": [
      "['A' 'C' 'E' 'G' 'I']\n"
     ]
    }
   ],
   "source": [
    "import numpy as np\n",
    "\n",
    "np_array_2d = np.array([[1, \"A\"], [3, \"C\"], [2, \"B\"], [4, \"D\"],\n",
    "                        [5, \"E\"], [7, \"G\"], [6, \"F\"], [8, \"H\"],\n",
    "                        [10, \"J\"], [9, \"I\"]])\n",
    "\n",
    "numbers = np_array_2d[:,0]\n",
    "\n",
    "numbers_int = numbers.astype(int)\n",
    "\n",
    "mask_even = numbers_int % 2 != 0\n",
    "\n",
    "alphabets = np_array_2d[mask_even,1]\n",
    "\n",
    "print (alphabets)"
   ]
  },
  {
   "cell_type": "code",
   "execution_count": 21,
   "id": "a45b1e88-a234-43bd-8b48-34d3b1ad22d7",
   "metadata": {},
   "outputs": [
    {
     "name": "stdout",
     "output_type": "stream",
     "text": [
      "[[ 1  0  1 -1 -1]\n",
      " [ 1 -1  1 -1 -1]\n",
      " [ 1 -1 -1  1 -1]\n",
      " [-1  1  1 -1 -1]\n",
      " [ 1 -1  1 -1  1]]\n"
     ]
    }
   ],
   "source": [
    "import numpy as np\n",
    "\n",
    "\n",
    "matrix = np.array([[66, 50, 57, -1, -1],[92, -1, 88, -1, -1],[75, -1, -1, 76, -1], [-1, 51, 87, -1, -1],[71, -1, 67, -1, 69]])\n",
    "\n",
    "mask_under_50 = matrix < 50\n",
    "\n",
    "mask_over_50 = matrix >50\n",
    "\n",
    "mask_equal_50 = matrix == 50\n",
    "\n",
    "matrix[mask_under_50] = -1\n",
    "matrix[mask_over_50] = 1\n",
    "matrix[mask_equal_50] = 0\n",
    "\n",
    "print(matrix)"
   ]
  },
  {
   "cell_type": "code",
   "execution_count": null,
   "id": "a8d81f4f-49e7-4454-b0d4-350ba3f1a4e4",
   "metadata": {},
   "outputs": [],
   "source": []
  }
 ],
 "metadata": {
  "kernelspec": {
   "display_name": "Python [conda env:base] *",
   "language": "python",
   "name": "conda-base-py"
  },
  "language_info": {
   "codemirror_mode": {
    "name": "ipython",
    "version": 3
   },
   "file_extension": ".py",
   "mimetype": "text/x-python",
   "name": "python",
   "nbconvert_exporter": "python",
   "pygments_lexer": "ipython3",
   "version": "3.12.2"
  },
  "toc": {
   "base_numbering": 1,
   "nav_menu": {},
   "number_sections": true,
   "sideBar": true,
   "skip_h1_title": false,
   "title_cell": "Table of Contents",
   "title_sidebar": "Contents",
   "toc_cell": false,
   "toc_position": {},
   "toc_section_display": true,
   "toc_window_display": false
  },
  "vscode": {
   "interpreter": {
    "hash": "31f2aee4e71d21fbe5cf8b01ff0e069b9275f58929596ceb00d14d90e3e16cd6"
   }
  }
 },
 "nbformat": 4,
 "nbformat_minor": 5
}
